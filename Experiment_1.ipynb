{
  "nbformat": 4,
  "nbformat_minor": 0,
  "metadata": {
    "colab": {
      "provenance": []
    },
    "kernelspec": {
      "name": "python3",
      "display_name": "Python 3"
    },
    "language_info": {
      "name": "python"
    },
    "accelerator": "GPU",
    "gpuClass": "standard"
  },
  "cells": [
    {
      "cell_type": "code",
      "source": [
        "!apt-get install -y build-essential python-dev python-numpy python3-dev python3-numpy libjpeg-dev zlib1g-dev libpng-dev\n"
      ],
      "metadata": {
        "id": "vQKjazhWxtDi"
      },
      "execution_count": null,
      "outputs": []
    },
    {
      "cell_type": "code",
      "source": [
        "!wget http://prdownloads.sourceforge.net/ta-lib/ta-lib-0.4.0-src.tar.gz\n",
        "!tar xvzf ta-lib-0.4.0-src.tar.gz\n"
      ],
      "metadata": {
        "id": "3p6ta6grxuAT"
      },
      "execution_count": null,
      "outputs": []
    },
    {
      "cell_type": "code",
      "source": [
        "%cd ta-lib\n",
        "!./configure --prefix=/usr\n",
        "!make\n",
        "!make install\n"
      ],
      "metadata": {
        "id": "iJwI0DFhxzaK"
      },
      "execution_count": null,
      "outputs": []
    },
    {
      "cell_type": "code",
      "source": [
        "!pip install Ta-Lib\n"
      ],
      "metadata": {
        "id": "433D6Nxmx6Xu"
      },
      "execution_count": null,
      "outputs": []
    },
    {
      "cell_type": "code",
      "source": [
        "!pip install mpl-finance\n"
      ],
      "metadata": {
        "id": "zirrSY_TyhGz"
      },
      "execution_count": null,
      "outputs": []
    },
    {
      "cell_type": "markdown",
      "source": [
        "Since the below code is only fetching data from an API and performing some calculations on it, there is no need for any preprocessing steps like missing value replacement, standardization, or normalization. However, it's always a good practice to check for missing values and outliers in the data, and handle them appropriately before performing any analysis. And"
      ],
      "metadata": {
        "id": "cQrIsxSE4-hI"
      }
    },
    {
      "cell_type": "code",
      "source": [
        "import requests\n",
        "import pandas as pd\n",
        "import numpy as np\n",
        "import matplotlib.pyplot as plt\n",
        "from matplotlib.dates import DateFormatter, WeekdayLocator, DayLocator, YearLocator,MONDAY\n",
        "from mpl_finance import candlestick_ohlc\n",
        "\n",
        "# define function to get daily stock data from Alpha Vantage API\n",
        "def get_daily_data(symbol):\n",
        "    url = f\"https://www.alphavantage.co/query?function=TIME_SERIES_DAILY_ADJUSTED&symbol={symbol}&outputsize=compact&apikey=H29FNTNOFNL5L7A3\"\n",
        "    response = requests.get(url)\n",
        "    data = response.json()\n",
        "    daily_data = pd.DataFrame.from_dict(data['Time Series (Daily)'], orient='index').astype(float)\n",
        "    daily_data.index = pd.to_datetime(daily_data.index)\n",
        "    # handle missing values\n",
        "    daily_data = daily_data.fillna(method='ffill')\n",
        "    return daily_data\n",
        "\n",
        "# define function to check for uptrend\n",
        "def check_uptrend(stock_data):\n",
        "    slow_ma = stock_data['4. close'].rolling(window=20).mean()\n",
        "    fast_ma = stock_data['4. close'].rolling(window=10).mean()\n",
        "    if fast_ma[-1] > slow_ma[-1] and stock_data['4. close'][-1] > fast_ma[-1]:\n",
        "        print(\"Satisfies the uptrend\")\n",
        "        return True\n",
        "    else:\n",
        "        print(\"Does not satisfy the uptrend\")\n",
        "        return False\n",
        "\n",
        "# define function to check for inside days\n",
        "def check_inside_days(stock_data):\n",
        "    # check if previous day's range is inside today's range\n",
        "    prev_range = stock_data.iloc[-2]['2. high'] - stock_data.iloc[-2]['3. low']\n",
        "    curr_range = stock_data.iloc[-1]['2. high'] - stock_data.iloc[-1]['3. low']\n",
        "    if curr_range < prev_range:\n",
        "        print(\"Satisfies the inside days\")\n",
        "        return True\n",
        "    else:\n",
        "        print(\"Does not satisfy the inside days\")\n",
        "        return False\n",
        "\n",
        "# define function to check for volatility contraction\n",
        "def check_volatility_contraction(stock_data):\n",
        "    avg_volume = stock_data['6. volume'][-25:].mean()\n",
        "    curr_volume = stock_data['6. volume'][-1]\n",
        "    if curr_volume < avg_volume:\n",
        "        print(\"Satisfies the VC\")\n",
        "        return True\n",
        "    else:\n",
        "        print(\"Does not satisfy the VC\")\n",
        "        return False\n",
        "\n",
        "\n",
        "# define function to check if a stock meets all 3 criteria\n",
        "def check_potential_stock(symbol):\n",
        "    stock_data = get_daily_data(symbol)\n",
        "\n",
        "    # check for missing values\n",
        "    if stock_data.isnull().values.any():\n",
        "        print(\"Data contains missing values\")\n",
        "        return False\n",
        "\n",
        "\n",
        "    if check_uptrend(stock_data) and check_inside_days(stock_data) and check_volatility_contraction(stock_data):\n",
        "        return True\n",
        "    else:\n",
        "        return False\n",
        "\n",
        "\n",
        "# example usage for stock symbol MSFT\n",
        "if check_potential_stock('IBM'):\n",
        "    print(\"MSFT is a potential stock to buy\")\n",
        "else:\n",
        "    print(\"MSFT does not meet all criteria\")\n"
      ],
      "metadata": {
        "colab": {
          "base_uri": "https://localhost:8080/"
        },
        "id": "DEfQ6aDhqWQ1",
        "outputId": "c102cb89-a027-4531-aba8-c7d2ed579441"
      },
      "execution_count": null,
      "outputs": [
        {
          "output_type": "stream",
          "name": "stdout",
          "text": [
            "Does not satisfy the uptrend\n",
            "MSFT does not meet all criteria\n"
          ]
        }
      ]
    },
    {
      "cell_type": "code",
      "source": [
        "# plot chart for uptrend\n",
        "stock_data = get_daily_data('MSFT')\n",
        "slow_ma = stock_data['4. close'].rolling(window=20).mean()\n",
        "fast_ma = stock_data['4. close'].rolling(window=10).mean()\n",
        "plt.plot(stock_data.index, stock_data['4. close'], label='Close')\n",
        "plt.plot(slow_ma.index, slow_ma, label='20-day MA')\n",
        "plt.plot(fast_ma.index, fast_ma, label='10-day MA')\n",
        "plt.legend()\n",
        "plt.title('Uptrend')\n",
        "plt.xlabel('Date')\n",
        "plt.ylabel('Price')\n",
        "plt.xticks(rotation=45, ha='right')\n",
        "plt.show()\n"
      ],
      "metadata": {
        "colab": {
          "base_uri": "https://localhost:8080/",
          "height": 322
        },
        "id": "ktEQE2Bnqozr",
        "outputId": "9306bb8a-bc1f-4e62-a515-311502b338e0"
      },
      "execution_count": null,
      "outputs": [
        {
          "output_type": "display_data",
          "data": {
            "text/plain": [
              "<Figure size 432x288 with 1 Axes>"
            ],
            "image/png": "[encoded data removed]"
          },
          "metadata": {
            "needs_background": "light"
          }
        }
      ]
    },
    {
      "cell_type": "code",
      "source": [
        "def plot_inside_days(symbol):\n",
        "    stock_data = get_daily_data(symbol)\n",
        "    if not check_inside_days(stock_data):\n",
        "        print(f\"{symbol} does not have inside days\")\n",
        "        return\n",
        "    stock_data = stock_data.reset_index()\n",
        "    yearLocator = YearLocator()        # major ticks on the months\n",
        "    yearFormatter = DateFormatter('%b %Y')  # e.g., Jan 2022\n",
        "    quotes = [tuple([i]+list(stock_data.loc[i, ['1. open', '2. high', '3. low', '4. close']])) for i in range(len(stock_data))]\n",
        "    fig, ax = plt.subplots()\n",
        "    fig.subplots_adjust(bottom=0.2)\n",
        "    ax.xaxis.set_major_locator(yearLocator)\n",
        "    ax.xaxis.set_major_formatter(yearFormatter)\n",
        "    candlestick_ohlc(ax, quotes, width=0.6, colorup='g', colordown='r')\n",
        "    ax.autoscale_view()\n",
        "    plt.setp(plt.gca().get_xticklabels(), rotation=45, horizontalalignment='right')\n",
        "    plt.title('Inside Days')\n",
        "    plt.xlabel('Date')\n",
        "    plt.ylabel('Price')\n",
        "    plt.show()\n",
        "\n",
        "plot_inside_days('MSFT')\n"
      ],
      "metadata": {
        "colab": {
          "base_uri": "https://localhost:8080/"
        },
        "id": "mKUY5Gd3tbV9",
        "outputId": "b377f8b0-2394-47c8-89d7-d5e64ceaaf58"
      },
      "execution_count": null,
      "outputs": [
        {
          "output_type": "stream",
          "name": "stdout",
          "text": [
            "Does not satisfy the inside days\n",
            "MSFT does not have inside days\n"
          ]
        }
      ]
    },
    {
      "cell_type": "code",
      "source": [
        "stock_data = get_daily_data('MSFT')\n",
        "avg_volume = stock_data['6. volume'][-25:].mean()\n",
        "curr_volume = stock_data['6. volume'][-1]\n",
        "\n",
        "plt.plot(stock_data.index[-25:], stock_data['6. volume'][-25:], label='Volume')\n",
        "plt.axhline(y=avg_volume, linestyle='--', color='gray', label='Average Volume')\n",
        "plt.axhline(y=curr_volume, linestyle='-', color='red', label='Current Volume')\n",
        "\n",
        "plt.legend()\n",
        "plt.title('Volatility Contraction')\n",
        "plt.xlabel('Date')\n",
        "plt.ylabel('Volume')\n",
        "\n",
        "plt.xticks(rotation=45, ha='right')\n",
        "\n",
        "plt.show()"
      ],
      "metadata": {
        "colab": {
          "base_uri": "https://localhost:8080/",
          "height": 334
        },
        "id": "08zrufPOxLFJ",
        "outputId": "8f29f9b1-630b-49c3-9c46-d5cc9c33159c"
      },
      "execution_count": null,
      "outputs": [
        {
          "output_type": "display_data",
          "data": {
            "text/plain": [
              "<Figure size 432x288 with 1 Axes>"
            ],
            "image/png": "[encoded data removed]"
          },
          "metadata": {
            "needs_background": "light"
          }
        }
      ]
    },
    {
      "cell_type": "code",
      "source": [
        "from math import sqrt\n",
        "import pandas as pd\n",
        "import requests\n",
        "import talib\n",
        "from sklearn.preprocessing import StandardScaler\n",
        "from sklearn.linear_model import LinearRegression\n",
        "from sklearn.tree import DecisionTreeRegressor\n",
        "from sklearn.svm import SVR\n",
        "from sklearn.metrics import mean_squared_error\n",
        "from sklearn.model_selection import TimeSeriesSplit\n",
        "\n",
        "# Define the API endpoint and parameters\n",
        "url = \"https://www.alphavantage.co/query\"\n",
        "params = {\n",
        "    \"function\": \"TIME_SERIES_DAILY_ADJUSTED\",\n",
        "    \"symbol\": \"GOOG\",\n",
        "    \"outputsize\": \"compact\",\n",
        "    \"apikey\": \"H29FNTNOFNL5L7A3\"\n",
        "}\n",
        "\n",
        "# Send the API request and parse the response\n",
        "response = requests.get(url, params=params)\n",
        "data = response.json()[\"Time Series (Daily)\"]\n",
        "\n",
        "# Convert the data to a Pandas DataFrame\n",
        "df = pd.DataFrame.from_dict(data, orient=\"index\")\n",
        "df = df.astype(float)\n",
        "\n",
        "# Add additional features\n",
        "df[\"SMA10\"] = df[\"4. close\"].rolling(window=10).mean()\n",
        "df[\"EMA10\"] = df[\"4. close\"].ewm(span=10, adjust=False).mean()\n",
        "df[\"RSI14\"] = talib.RSI(df[\"4. close\"].values, timeperiod=14)\n",
        "df[\"ADX\"] = talib.ADX(df[\"2. high\"].values, df[\"3. low\"].values, df[\"4. close\"].values, timeperiod=14)\n",
        "\n",
        "# Drop rows with missing values\n",
        "df.dropna(inplace=True)\n",
        "\n",
        "# Define the independent and dependent variables\n",
        "X = df[[\"1. open\", \"6. volume\", \"SMA10\", \"EMA10\", \"RSI14\", \"ADX\"]]\n",
        "y = df[\"4. close\"]\n",
        "\n",
        "# Split the data into training and testing sets using time series split\n",
        "tscv = TimeSeriesSplit(n_splits=2)\n",
        "for train_index, test_index in tscv.split(X):\n",
        "    X_train, X_test = X.iloc[train_index], X.iloc[test_index]\n",
        "    y_train, y_test = y.iloc[train_index], y.iloc[test_index]\n",
        "\n",
        "    # Scale the features using the StandardScaler\n",
        "    scaler = StandardScaler()\n",
        "    X_train_scaled = scaler.fit_transform(X_train)\n",
        "    X_test_scaled = scaler.transform(X_test)\n",
        "\n",
        "    # Fit the multiple linear regression model\n",
        "    regressor = LinearRegression()\n",
        "    regressor.fit(X_train_scaled, y_train)\n",
        "    y_pred_lr = regressor.predict(X_test_scaled)\n",
        "\n",
        "    # Count the number of days when the stock price increased and the number of days when the model predicted an increase\n",
        "    actual_increase = 0\n",
        "    predicted_increase = 0\n",
        "    for i in range(len(y_test) - 1):\n",
        "        actual_diff = y_test[i + 1] - y_test[i]\n",
        "        predicted_diff = y_pred_lr[i + 1] - y_pred_lr[i]\n",
        "        if actual_diff > 0:\n",
        "            actual_increase += 1\n",
        "        if predicted_diff > 0:\n",
        "            predicted_increase += 1\n",
        "    print(\"Multiple Linear Regression:\")\n",
        "    print(\"Days when actual stock price increased:\", actual_increase)\n",
        "    print(\"Days when model predicted stock price increase:\", predicted_increase)\n",
        "\n",
        "    # Fit the decision tree regression model\n",
        "    tree_regressor = DecisionTreeRegressor(random_state=42)\n",
        "    tree_regressor.fit(X_train, y_train)\n",
        "    y_pred_dt = tree_regressor.predict(X_test)\n",
        "\n",
        "    # Count the number of days when the stock price increased and the number of days when the model predicted an increase\n",
        "    actual_increase = 0\n",
        "    predicted_increase = 0\n",
        "    for i in range(len(y_test) - 1):\n",
        "        actual_diff = y_test[i + 1] - y_test[i]\n",
        "        predicted_diff = y_pred_dt[i + 1] - y_pred_dt[i]\n",
        "        if actual_diff > 0:\n",
        "            actual_increase += 1\n",
        "        if predicted_diff > 0:\n",
        "            predicted_increase += 1\n",
        "    print(\"Decision Tree Regression:\")\n",
        "    print(\"Days when actual stock price increased:\", actual_increase)\n",
        "    print(\"Days when model predicted stock price increase:\", predicted_increase)\n",
        "\n",
        "    # Fit the support vector regression model\n",
        "    svr_regressor = SVR(kernel=\"rbf\")\n",
        "    svr_regressor.fit(X_train_scaled, y_train)\n",
        "    y_pred_sr = svr_regressor.predict(X_test_scaled)\n",
        "\n",
        "    # Count the number of days when the stock price increased and the number of days when the model predicted an increase\n",
        "    actual_increase = 0\n",
        "    predicted_increase = 0\n",
        "    for i in range(len(y_test) - 1):\n",
        "        actual_diff = y_test[i + 1] - y_test[i]\n",
        "        predicted_diff = y_pred_sr[i + 1] - y_pred_sr[i]\n",
        "        if actual_diff > 0:\n",
        "            actual_increase += 1\n",
        "        if predicted_diff > 0:\n",
        "            predicted_increase += 1\n",
        "    print(\"Support Vector Regression:\")\n",
        "    print(\"Days when actual stock price increased:\", actual_increase)\n",
        "    print(\"Days when model predicted stock price increase:\", predicted_increase)\n",
        "\n",
        "    # Print the root mean squared error for each model\n",
        "    mse_lr = mean_squared_error(y_test, y_pred_lr)\n",
        "    mse_dt = mean_squared_error(y_test, y_pred_dt)\n",
        "    mse_svr = mean_squared_error(y_test, y_pred_sr)\n",
        "    print(\"Multiple Linear Regression RMSE:\", mse_lr)\n",
        "    print(\"Decision Tree Regression RMSE:\", mse_dt)\n",
        "    print(\"Support Vector Regression RMSE:\", mse_svr)"
      ],
      "metadata": {
        "id": "UXBwzWzOV3bH",
        "colab": {
          "base_uri": "https://localhost:8080/"
        },
        "outputId": "488e71dc-6fa8-45e0-b1e9-91647000d04e"
      },
      "execution_count": null,
      "outputs": [
        {
          "output_type": "stream",
          "name": "stdout",
          "text": [
            "Multiple Linear Regression:\n",
            "Days when actual stock price increased: 16\n",
            "Days when model predicted stock price increase: 16\n",
            "Decision Tree Regression:\n",
            "Days when actual stock price increased: 16\n",
            "Days when model predicted stock price increase: 7\n",
            "Support Vector Regression:\n",
            "Days when actual stock price increased: 16\n",
            "Days when model predicted stock price increase: 15\n",
            "Multiple Linear Regression RMSE: 15.194741776304568\n",
            "Decision Tree Regression RMSE: 31.914154166666673\n",
            "Support Vector Regression RMSE: 5.5161630950108895\n",
            "Multiple Linear Regression:\n",
            "Days when actual stock price increased: 11\n",
            "Days when model predicted stock price increase: 12\n",
            "Decision Tree Regression:\n",
            "Days when actual stock price increased: 11\n",
            "Days when model predicted stock price increase: 7\n",
            "Support Vector Regression:\n",
            "Days when actual stock price increased: 11\n",
            "Days when model predicted stock price increase: 12\n",
            "Multiple Linear Regression RMSE: 3.570700696106225\n",
            "Decision Tree Regression RMSE: 4.79449999999999\n",
            "Support Vector Regression RMSE: 15.446527874754459\n"
          ]
        }
      ]
    },
    {
      "cell_type": "code",
      "source": [],
      "metadata": {
        "id": "7YVo543t0mTc"
      },
      "execution_count": null,
      "outputs": []
    }
  ]
}